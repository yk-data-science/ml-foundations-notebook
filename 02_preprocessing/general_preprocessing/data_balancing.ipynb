{
 "cells": [
  {
   "cell_type": "markdown",
   "id": "6beddda9",
   "metadata": {},
   "source": [
    "# 1. Data Balancing\n",
    "\n",
    "Data balancing addresses the problem of imbalanced datasets where some classes have many more samples than others. Imbalanced data can cause machine learning models to be biased toward majority classes, resulting in poor predictive performance on minority classes. Balancing techniques aim to create a more even class distribution to improve model fairness and accuracy.\n",
    "\n",
    "# 2. Why Data Balancing is Important\n",
    "\n",
    "When classes are imbalanced, models tend to favour the majority class, leading to misleadingly high overall accuracy but poor recall or precision for minority classes. This is critical in fields like medical diagnosis or fraud detection, where minority class detection is vital.\n",
    "\n",
    "# 3. Common Techniques for Data Balancing\n",
    "\n",
    "## 3.1 Random Undersampling\n",
    "\n",
    "Randomly removes samples from the majority class to balance with the minority class.  \n",
    "Simple but may discard useful information."
   ]
  },
  {
   "cell_type": "code",
   "execution_count": null,
   "id": "6b9ba506",
   "metadata": {},
   "outputs": [],
   "source": [
    "%pip install imbalanced-learn"
   ]
  },
  {
   "cell_type": "code",
   "execution_count": 8,
   "id": "ffdda40f",
   "metadata": {},
   "outputs": [
    {
     "name": "stdout",
     "output_type": "stream",
     "text": [
      "Original class distribution: Counter({0: 5, 1: 5})\n",
      "Resampled class distribution: Counter({0: 5, 1: 5})\n",
      "\n",
      "Resampled dataset:\n",
      "   feature1  feature2  target\n",
      "0         1        10       0\n",
      "1         2         9       0\n",
      "2         3         8       0\n",
      "3         4         7       0\n",
      "4         5         6       0\n",
      "6         7         4       1\n",
      "9        10         1       1\n",
      "7         8         3       1\n",
      "5         6         5       1\n",
      "8         9         2       1\n"
     ]
    }
   ],
   "source": [
    "import pandas as pd\n",
    "from collections import Counter\n",
    "from imblearn.under_sampling import RandomUnderSampler\n",
    "\n",
    "# Create a simple imbalanced dataset\n",
    "data = {\n",
    "    'feature1': [1, 2, 3, 4, 5, 6, 7, 8, 9, 10],\n",
    "    'feature2': [10, 9, 8, 7, 6, 5, 4, 3, 2, 1],\n",
    "    'target':   [0, 0, 0, 0, 0, 1, 1, 1, 1, 1]  # Class 0 is majority\n",
    "}\n",
    "\n",
    "df = pd.DataFrame(data)\n",
    "\n",
    "X = df.drop('target', axis=1)\n",
    "y = df['target']\n",
    "\n",
    "print(\"Original class distribution:\", Counter(y))\n",
    "\n",
    "rus = RandomUnderSampler(random_state=42)\n",
    "X_resampled, y_resampled = rus.fit_resample(X, y)\n",
    "\n",
    "print(\"Resampled class distribution:\", Counter(y_resampled))\n",
    "\n",
    "# Show resampled data as DataFrame\n",
    "resampled_df = pd.DataFrame(X_resampled, columns=X.columns)\n",
    "resampled_df['target'] = y_resampled.values\n",
    "\n",
    "print(\"\\nResampled dataset:\")\n",
    "print(resampled_df)\n"
   ]
  },
  {
   "cell_type": "markdown",
   "id": "78b03938",
   "metadata": {},
   "source": [
    "## 3.2 Random Oversampling\n",
    "\n",
    "Duplicates samples from the minority class to match the majority class count.  \n",
    "Easy to implement but can cause overfitting."
   ]
  },
  {
   "cell_type": "code",
   "execution_count": 9,
   "id": "5b27ba43",
   "metadata": {},
   "outputs": [],
   "source": [
    "from imblearn.over_sampling import RandomOverSampler\n",
    "\n",
    "ros = RandomOverSampler(random_state=42)\n",
    "X_resampled, y_resampled = ros.fit_resample(X, y)"
   ]
  },
  {
   "cell_type": "markdown",
   "id": "b2dd3714",
   "metadata": {},
   "source": [
    "## 3.3 SMOTE (Synthetic Minority Over-sampling Technique)\n",
    "\n",
    "Generates synthetic minority class examples by interpolating between existing samples.  \n",
    "Reduces overfitting compared to simple oversampling."
   ]
  },
  {
   "cell_type": "code",
   "execution_count": 10,
   "id": "e845cae9",
   "metadata": {},
   "outputs": [],
   "source": [
    "from imblearn.over_sampling import SMOTE\n",
    "\n",
    "smote = SMOTE(random_state=42)\n",
    "X_resampled, y_resampled = smote.fit_resample(X, y)"
   ]
  },
  {
   "cell_type": "markdown",
   "id": "2b5b73d5",
   "metadata": {},
   "source": [
    "## 3.4 Tomek Links and Edited Nearest Neighbours\n",
    "\n",
    "Undersampling methods that clean overlapping or noisy samples near class boundaries.  \n",
    "Improve class separability and data quality.\n",
    "\n",
    "# 4. When to Use Each Technique\n",
    "\n",
    "| Technique              | Use Case                            | Pros                               | Cons                         |\n",
    "| ---------------------- | ---------------------------------- | ---------------------------------- | ---------------------------- |\n",
    "| Random Undersampling    | When dataset is large               | Simple, fast                      | May lose important data       |\n",
    "| Random Oversampling     | Small datasets                     | Easy to implement                 | Risk of overfitting           |\n",
    "| SMOTE                  | When synthetic data can help       | Creates new samples, reduces overfitting | More complex, may create noise |\n",
    "| Tomek Links / ENN      | When cleaning noisy data            | Improves data quality             | May remove borderline cases   |\n",
    "\n",
    "# 5. Summary\n",
    "\n",
    "Data balancing is essential for training fair and accurate models on imbalanced datasets. Selecting the right method depends on the dataset size, domain, and tolerance for overfitting or data loss. Techniques like SMOTE are widely used for their balance between effectiveness and robustness."
   ]
  }
 ],
 "metadata": {
  "kernelspec": {
   "display_name": ".venv",
   "language": "python",
   "name": "python3"
  },
  "language_info": {
   "codemirror_mode": {
    "name": "ipython",
    "version": 3
   },
   "file_extension": ".py",
   "mimetype": "text/x-python",
   "name": "python",
   "nbconvert_exporter": "python",
   "pygments_lexer": "ipython3",
   "version": "3.12.4"
  }
 },
 "nbformat": 4,
 "nbformat_minor": 5
}
