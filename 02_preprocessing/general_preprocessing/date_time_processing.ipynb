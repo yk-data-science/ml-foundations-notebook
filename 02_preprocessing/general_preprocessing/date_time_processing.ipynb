{
 "cells": [
  {
   "cell_type": "markdown",
   "id": "657ef2ce",
   "metadata": {},
   "source": [
    "# DateTime Processing in Machine Learning\n",
    "\n",
    "## Overview\n",
    "\n",
    "DateTime Processing involves handling and transforming date and time data to make it suitable for machine learning models. Proper processing of datetime features can significantly improve model performance, especially for time-dependent data.\n",
    "\n",
    "## Common DateTime Processing Tasks\n",
    "\n",
    "- **Parsing and Conversion**  \n",
    "  Convert date/time strings into Python datetime objects for easier manipulation.\n",
    "\n",
    "- **Feature Extraction**  \n",
    "  Extract useful components such as:  \n",
    "  - Year  \n",
    "  - Month  \n",
    "  - Day  \n",
    "  - Weekday (Monday, Tuesday, etc.)  \n",
    "  - Hour, Minute, Second  \n",
    "  - Is weekend/holiday  \n",
    "\n",
    "- **Time Difference Calculation**  \n",
    "  Compute durations or time intervals between events.\n",
    "\n",
    "- **Handling Periodicity**  \n",
    "  Encode cyclical features (e.g., hours of day, day of week) using sine and cosine transformations to preserve cyclical nature.\n",
    "\n",
    "- **Missing and Anomalous Data Handling**  \n",
    "  Detect and fill missing timestamps or correct outliers."
   ]
  },
  {
   "cell_type": "code",
   "execution_count": 1,
   "id": "549c516a",
   "metadata": {},
   "outputs": [
    {
     "name": "stdout",
     "output_type": "stream",
     "text": [
      "            timestamp  year  month  day  weekday  hour  hour_sin  hour_cos\n",
      "0 2025-07-12 14:30:00  2025      7   12        5    14 -0.500000 -0.866025\n",
      "1 2025-07-13 09:15:00  2025      7   13        6     9  0.707107 -0.707107\n",
      "2 2025-07-14 20:45:00  2025      7   14        0    20 -0.866025  0.500000\n"
     ]
    }
   ],
   "source": [
    "import pandas as pd\n",
    "import numpy as np\n",
    "\n",
    "# Sample data\n",
    "df = pd.DataFrame({\n",
    "    'timestamp': pd.to_datetime([\n",
    "        '2025-07-12 14:30:00',\n",
    "        '2025-07-13 09:15:00',\n",
    "        '2025-07-14 20:45:00'\n",
    "    ])\n",
    "})\n",
    "\n",
    "# Extract datetime features\n",
    "df['year'] = df['timestamp'].dt.year\n",
    "df['month'] = df['timestamp'].dt.month\n",
    "df['day'] = df['timestamp'].dt.day\n",
    "df['weekday'] = df['timestamp'].dt.weekday  # Monday=0, Sunday=6\n",
    "df['hour'] = df['timestamp'].dt.hour\n",
    "\n",
    "# Example of cyclical encoding for hour\n",
    "df['hour_sin'] = np.sin(2 * np.pi * df['hour'] / 24)\n",
    "df['hour_cos'] = np.cos(2 * np.pi * df['hour'] / 24)\n",
    "\n",
    "print(df)"
   ]
  },
  {
   "cell_type": "markdown",
   "id": "6ee3f503",
   "metadata": {},
   "source": [
    "## Why DateTime Processing Matters\n",
    "\n",
    "Many real-world datasets contain temporal patterns —  \n",
    "for example, sales may vary by day of week, or website traffic may change by hour.\n",
    "\n",
    "Machine learning models cannot interpret raw datetime strings directly.\n",
    "\n",
    "By extracting meaningful temporal features, models can learn:\n",
    "\n",
    "- Seasonal trends (e.g., higher demand in summer)\n",
    "- Cyclical patterns (e.g., daily or weekly routines)\n",
    "- Time-based shifts in behaviour\n",
    "\n",
    "Proper DateTime processing transforms raw timestamps into actionable features that improve model performance.\n",
    "\n",
    "---\n",
    "\n",
    "This note can be expanded with:\n",
    "\n",
    "- Handling timezones  \n",
    "- Resampling time series data  \n",
    "- Working with irregular time intervals  \n",
    "- Detecting and imputing missing timestamps"
   ]
  }
 ],
 "metadata": {
  "kernelspec": {
   "display_name": ".venv",
   "language": "python",
   "name": "python3"
  },
  "language_info": {
   "codemirror_mode": {
    "name": "ipython",
    "version": 3
   },
   "file_extension": ".py",
   "mimetype": "text/x-python",
   "name": "python",
   "nbconvert_exporter": "python",
   "pygments_lexer": "ipython3",
   "version": "3.12.4"
  }
 },
 "nbformat": 4,
 "nbformat_minor": 5
}
