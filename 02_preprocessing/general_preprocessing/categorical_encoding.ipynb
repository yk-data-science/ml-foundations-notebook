{
 "cells": [
  {
   "cell_type": "markdown",
   "id": "2ceb1789",
   "metadata": {},
   "source": [
    "## 1. Label Encoding\n",
    "\n",
    "Assigns each unique category an integer value.\n",
    "\n",
    "- Use case: Ordinal categories or tree-based models.\n",
    "- Note: Not suitable for nominal data without order as it may imply false relationships."
   ]
  },
  {
   "cell_type": "code",
   "execution_count": 8,
   "id": "20b1a84b",
   "metadata": {},
   "outputs": [
    {
     "name": "stdout",
     "output_type": "stream",
     "text": [
      "[2 1 0 1 2]\n"
     ]
    }
   ],
   "source": [
    "from sklearn.preprocessing import LabelEncoder\n",
    "\n",
    "data = ['red', 'green', 'blue', 'green', 'red']\n",
    "le = LabelEncoder()\n",
    "encoded = le.fit_transform(data)\n",
    "print(encoded)  # Output: [2 1 0 1 2]"
   ]
  },
  {
   "cell_type": "markdown",
   "id": "9678ad91",
   "metadata": {},
   "source": [
    "## 2. One-Hot Encoding\n",
    "\n",
    "Creates binary columns for each category.\n",
    "\n",
    "- Use case: Nominal categories, models sensitive to numeric values (e.g., logistic regression).\n",
    "- Note: Can increase dimensionality if many categories exist."
   ]
  },
  {
   "cell_type": "code",
   "execution_count": 9,
   "id": "fe76559f",
   "metadata": {},
   "outputs": [
    {
     "name": "stdout",
     "output_type": "stream",
     "text": [
      "    blue  green    red\n",
      "0  False  False   True\n",
      "1  False   True  False\n",
      "2   True  False  False\n",
      "3  False   True  False\n",
      "4  False  False   True\n"
     ]
    }
   ],
   "source": [
    "import pandas as pd\n",
    "\n",
    "df = pd.DataFrame({'color': ['red', 'green', 'blue', 'green', 'red']})\n",
    "one_hot = pd.get_dummies(df['color'])\n",
    "print(one_hot)"
   ]
  },
  {
   "cell_type": "markdown",
   "id": "ebbac63d",
   "metadata": {},
   "source": [
    "## 3. Ordinal Encoding\n",
    "\n",
    "Replaces categories with integers preserving their natural order.\n",
    "\n",
    "- Use case: Ordered categories (e.g., low < medium < high).\n",
    "- Note: Requires correct category order definition."
   ]
  },
  {
   "cell_type": "code",
   "execution_count": 10,
   "id": "b2c3c26c",
   "metadata": {},
   "outputs": [
    {
     "name": "stdout",
     "output_type": "stream",
     "text": [
      "[[0.]\n",
      " [1.]\n",
      " [2.]\n",
      " [1.]\n",
      " [0.]]\n"
     ]
    }
   ],
   "source": [
    "from sklearn.preprocessing import OrdinalEncoder\n",
    "\n",
    "data = [['low'], ['medium'], ['high'], ['medium'], ['low']]\n",
    "encoder = OrdinalEncoder(categories=[['low', 'medium', 'high']])\n",
    "encoded = encoder.fit_transform(data)\n",
    "print(encoded)"
   ]
  },
  {
   "cell_type": "markdown",
   "id": "ea8d641b",
   "metadata": {},
   "source": [
    "## 4. Target Encoding\n",
    "\n",
    "Replaces categories with the mean of the target variable for each category.\n",
    "\n",
    "- Use case: High-cardinality categories.\n",
    "- Warning: Risk of target leakage — requires careful cross-validation."
   ]
  },
  {
   "cell_type": "code",
   "execution_count": 11,
   "id": "eb1638ae",
   "metadata": {},
   "outputs": [
    {
     "name": "stdout",
     "output_type": "stream",
     "text": [
      "  category  target  category_encoded\n",
      "0        A      10              12.5\n",
      "1        B      20              22.5\n",
      "2        A      15              12.5\n",
      "3        C      10              10.0\n",
      "4        B      25              22.5\n"
     ]
    }
   ],
   "source": [
    "import pandas as pd\n",
    "\n",
    "df = pd.DataFrame({\n",
    "    'category': ['A', 'B', 'A', 'C', 'B'],\n",
    "    'target': [10, 20, 15, 10, 25]\n",
    "})\n",
    "target_means = df.groupby('category')['target'].mean()\n",
    "df['category_encoded'] = df['category'].map(target_means)\n",
    "print(df)"
   ]
  },
  {
   "cell_type": "markdown",
   "id": "c1480297",
   "metadata": {},
   "source": [
    "## 5. Frequency Encoding\n",
    "\n",
    "Replaces categories with their frequency counts.\n",
    "\n",
    "- Use case: When frequency information matters.\n",
    "- Advantage: No increase in dimensionality."
   ]
  },
  {
   "cell_type": "code",
   "execution_count": 12,
   "id": "41517727",
   "metadata": {},
   "outputs": [
    {
     "name": "stdout",
     "output_type": "stream",
     "text": [
      "  category  target  category_encoded  category_freq\n",
      "0        A      10              12.5              2\n",
      "1        B      20              22.5              2\n",
      "2        A      15              12.5              2\n",
      "3        C      10              10.0              1\n",
      "4        B      25              22.5              2\n"
     ]
    }
   ],
   "source": [
    "freq = df['category'].value_counts()\n",
    "df['category_freq'] = df['category'].map(freq)\n",
    "print(df)"
   ]
  },
  {
   "cell_type": "markdown",
   "id": "d18ecfce",
   "metadata": {},
   "source": [
    "## When to Use Each Encoding\n",
    "\n",
    "| Encoding Type   | Use Case                    | Pros                          | Cons                          |\n",
    "|-----------------|-----------------------------|-------------------------------|-------------------------------|\n",
    "| Label Encoding  | Ordinal data                | Simple                        | May mislead model on nominal data |\n",
    "| One-Hot Encoding| Nominal data                | No order implied              | High dimensionality possible   |\n",
    "| Ordinal Encoding| Ordered categories          | Maintains order               | Needs correct order definition |\n",
    "| Target Encoding | High-cardinality categories | Reduces dimensionality        | Risk of leakage, needs care    |\n",
    "| Frequency Encoding| When frequency matters     | Simple, no dimensionality increase | May lose category meaning   |\n",
    "\n",
    "\n",
    "## Summary\n",
    "\n",
    "Categorical encoding is a crucial part of feature engineering. The choice of method depends on the nature of the categorical variable (nominal or ordinal), the number of unique categories, and the model being used. Always consider the risk of leakage, especially with target encoding, and validate your approach carefully."
   ]
  }
 ],
 "metadata": {
  "kernelspec": {
   "display_name": ".venv",
   "language": "python",
   "name": "python3"
  },
  "language_info": {
   "codemirror_mode": {
    "name": "ipython",
    "version": 3
   },
   "file_extension": ".py",
   "mimetype": "text/x-python",
   "name": "python",
   "nbconvert_exporter": "python",
   "pygments_lexer": "ipython3",
   "version": "3.12.4"
  }
 },
 "nbformat": 4,
 "nbformat_minor": 5
}
