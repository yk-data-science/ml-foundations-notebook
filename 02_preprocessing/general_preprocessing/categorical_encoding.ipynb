{
 "cells": [
  {
   "cell_type": "markdown",
   "id": "bd7df17d",
   "metadata": {},
   "source": [
    "## 1. Introduction to Categorical Encoding\n",
    "\n",
    "Categorical encoding transforms categorical variables (text labels or categories) into numerical formats that machine learning algorithms can process. Since many models require numeric input, encoding is essential for incorporating categorical data.\n",
    "\n",
    "---\n",
    "\n",
    "## 2. Label Encoding\n",
    "\n",
    "Label Encoding assigns each unique category an integer value.\n",
    "\n",
    " - Useful for ordinal categories (with inherent order).\n",
    " - Not ideal for nominal categories without order, as it may imply false relationships."
   ]
  },
  {
   "cell_type": "code",
   "execution_count": 1,
   "id": "9f6c42b9",
   "metadata": {},
   "outputs": [
    {
     "name": "stdout",
     "output_type": "stream",
     "text": [
      "[2 1 0 1 2]\n"
     ]
    }
   ],
   "source": [
    "from sklearn.preprocessing import LabelEncoder\n",
    "\n",
    "data = ['red', 'green', 'blue', 'green', 'red']\n",
    "le = LabelEncoder()\n",
    "encoded = le.fit_transform(data)\n",
    "print(encoded)  # Output: [2 1 0 1 2]"
   ]
  },
  {
   "cell_type": "markdown",
   "id": "fad24a4b",
   "metadata": {},
   "source": [
    "# 3. One-Hot Encoding\n",
    "\n",
    "One-Hot Encoding creates binary columns for each category.\n",
    "\n",
    " - Suitable for nominal categories without order.  \n",
    " - Avoids introducing artificial order.  \n",
    " - Can increase dimensionality if many categories exist."
   ]
  },
  {
   "cell_type": "code",
   "execution_count": 2,
   "id": "0a6551db",
   "metadata": {},
   "outputs": [
    {
     "name": "stdout",
     "output_type": "stream",
     "text": [
      "    blue  green    red\n",
      "0  False  False   True\n",
      "1  False   True  False\n",
      "2   True  False  False\n",
      "3  False   True  False\n",
      "4  False  False   True\n"
     ]
    }
   ],
   "source": [
    "import pandas as pd\n",
    "\n",
    "df = pd.DataFrame({'color': ['red', 'green', 'blue', 'green', 'red']})\n",
    "one_hot = pd.get_dummies(df['color'])\n",
    "print(one_hot)"
   ]
  },
  {
   "cell_type": "markdown",
   "id": "93a3c76f",
   "metadata": {},
   "source": [
    "# 4. Ordinal Encoding\n",
    "\n",
    "Ordinal Encoding replaces categories with integers preserving their order. Use this when categories have a natural ordering.\n",
    "It is important to specify the correct category order."
   ]
  },
  {
   "cell_type": "code",
   "execution_count": 3,
   "id": "721f5d5f",
   "metadata": {},
   "outputs": [
    {
     "name": "stdout",
     "output_type": "stream",
     "text": [
      "[[0.]\n",
      " [1.]\n",
      " [2.]\n",
      " [1.]\n",
      " [0.]]\n"
     ]
    }
   ],
   "source": [
    "from sklearn.preprocessing import OrdinalEncoder\n",
    "\n",
    "data = [['low'], ['medium'], ['high'], ['medium'], ['low']]\n",
    "encoder = OrdinalEncoder(categories=[['low', 'medium', 'high']])\n",
    "encoded = encoder.fit_transform(data)\n",
    "print(encoded)"
   ]
  },
  {
   "cell_type": "markdown",
   "id": "cd7ead2d",
   "metadata": {},
   "source": [
    "# 5. Target Encoding\n",
    "\n",
    "Target Encoding replaces categories with the average target value for each category.\n",
    "This is useful for high-cardinality categorical variables. However, it carries a risk of target leakage, so careful cross-validation is required."
   ]
  },
  {
   "cell_type": "code",
   "execution_count": 4,
   "id": "40fd94d2",
   "metadata": {},
   "outputs": [
    {
     "name": "stdout",
     "output_type": "stream",
     "text": [
      "  category  target  category_encoded\n",
      "0        A      10              12.5\n",
      "1        B      20              22.5\n",
      "2        A      15              12.5\n",
      "3        C      10              10.0\n",
      "4        B      25              22.5\n"
     ]
    }
   ],
   "source": [
    "import pandas as pd\n",
    "\n",
    "df = pd.DataFrame({\n",
    "    'category': ['A', 'B', 'A', 'C', 'B'],\n",
    "    'target': [10, 20, 15, 10, 25]\n",
    "})\n",
    "target_means = df.groupby('category')['target'].mean()\n",
    "df['category_encoded'] = df['category'].map(target_means)\n",
    "print(df)"
   ]
  },
  {
   "cell_type": "markdown",
   "id": "5e2457ed",
   "metadata": {},
   "source": [
    "# 6. Frequency Encoding\n",
    "\n",
    "Frequency Encoding replaces categories with their occurrence counts. It is simple and effective for some models. It preserves category frequency information without increasing dimensionality."
   ]
  },
  {
   "cell_type": "code",
   "execution_count": 5,
   "id": "26f72b28",
   "metadata": {},
   "outputs": [
    {
     "name": "stdout",
     "output_type": "stream",
     "text": [
      "  category  target  category_encoded  category_freq\n",
      "0        A      10              12.5              2\n",
      "1        B      20              22.5              2\n",
      "2        A      15              12.5              2\n",
      "3        C      10              10.0              1\n",
      "4        B      25              22.5              2\n"
     ]
    }
   ],
   "source": [
    "freq = df['category'].value_counts()\n",
    "df['category_freq'] = df['category'].map(freq)\n",
    "print(df)"
   ]
  },
  {
   "cell_type": "markdown",
   "id": "3ed6bcce",
   "metadata": {},
   "source": [
    "# 7. When to Use Each Encoding\n",
    "\n",
    "| Encoding Type      | Use Case                    | Pros                               | Cons                              |\n",
    "| ------------------ | --------------------------- | ---------------------------------- | --------------------------------- |\n",
    "| Label Encoding     | Ordinal data                | Simple                             | May mislead model on nominal data |\n",
    "| One-Hot Encoding   | Nominal data                | No order implied                   | High dimensionality possible      |\n",
    "| Ordinal Encoding   | Ordered categories          | Maintains order                    | Needs correct order definition    |\n",
    "| Target Encoding    | High-cardinality categories | Reduces dimensionality             | Risk of leakage, needs care       |\n",
    "| Frequency Encoding | When frequency matters      | Simple, no dimensionality increase | May lose category meaning         |\n",
    "\n",
    "\n",
    "\n",
    "# 8. Summary\n",
    "\n",
    "Categorical encoding is a crucial step to convert categorical variables into a format suitable for machine learning models.\n",
    "Choosing the right encoding method depends on the type of category (nominal or ordinal), number of unique categories, and the model you plan to use."
   ]
  }
 ],
 "metadata": {
  "kernelspec": {
   "display_name": ".venv",
   "language": "python",
   "name": "python3"
  },
  "language_info": {
   "codemirror_mode": {
    "name": "ipython",
    "version": 3
   },
   "file_extension": ".py",
   "mimetype": "text/x-python",
   "name": "python",
   "nbconvert_exporter": "python",
   "pygments_lexer": "ipython3",
   "version": "3.12.4"
  }
 },
 "nbformat": 4,
 "nbformat_minor": 5
}
