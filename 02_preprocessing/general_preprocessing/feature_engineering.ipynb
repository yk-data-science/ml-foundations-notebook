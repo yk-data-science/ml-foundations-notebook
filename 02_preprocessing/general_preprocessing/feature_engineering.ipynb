{
 "cells": [
  {
   "cell_type": "markdown",
   "id": "5d22efe6",
   "metadata": {},
   "source": [
    "# Feature Engineering: Encoding Categorical Variables\n",
    "\n",
    "Categorical variables need to be converted into numerical form before they can be used in most machine learning models. Below are common encoding techniques used in feature engineering.\n",
    "\n",
    "---\n",
    "\n",
    "## 1. One-Hot Encoding\n",
    "\n",
    "Converts each category into a separate binary column (1 if present, 0 otherwise).\n",
    "\n",
    "**Use case**: Logistic regression, SVM, or models sensitive to numerical values  \n",
    "**Note**: Can create many columns if categories are numerous."
   ]
  },
  {
   "cell_type": "code",
   "execution_count": 2,
   "id": "ef6e51e9",
   "metadata": {},
   "outputs": [
    {
     "name": "stdout",
     "output_type": "stream",
     "text": [
      "   color_Green  color_Red\n",
      "0        False       True\n",
      "1         True      False\n",
      "2        False      False\n",
      "3         True      False\n"
     ]
    }
   ],
   "source": [
    "import pandas as pd\n",
    "\n",
    "df = pd.DataFrame({'color': ['Red', 'Green', 'Blue', 'Green']})\n",
    "encoded = pd.get_dummies(df, columns=['color'], drop_first=True)\n",
    "print(encoded)"
   ]
  },
  {
   "cell_type": "markdown",
   "id": "052aec1b",
   "metadata": {},
   "source": [
    "## 2. Label Encoding\n",
    "\n",
    "Assigns each category a unique integer.\n",
    "\n",
    "**Use case**: Tree-based models like decision trees or random forests  \n",
    "**Note**: Not suitable for linear models unless categories have meaningful order."
   ]
  },
  {
   "cell_type": "code",
   "execution_count": 3,
   "id": "f7a6555d",
   "metadata": {},
   "outputs": [
    {
     "name": "stdout",
     "output_type": "stream",
     "text": [
      "   color  color_encoded\n",
      "0    Red              2\n",
      "1  Green              1\n",
      "2   Blue              0\n",
      "3  Green              1\n"
     ]
    }
   ],
   "source": [
    "from sklearn.preprocessing import LabelEncoder\n",
    "\n",
    "df = pd.DataFrame({'color': ['Red', 'Green', 'Blue', 'Green']})\n",
    "le = LabelEncoder()\n",
    "df['color_encoded'] = le.fit_transform(df['color'])\n",
    "print(df)"
   ]
  },
  {
   "cell_type": "markdown",
   "id": "e161979a",
   "metadata": {},
   "source": [
    "## 3. Ordinal Encoding\n",
    "\n",
    "Used when categories have a defined order (e.g., low < medium < high).\n",
    "\n",
    "**Use case**: When category order is meaningful  \n",
    "**Note**: Should not be used if categories are unordered"
   ]
  },
  {
   "cell_type": "code",
   "execution_count": 4,
   "id": "1f4851b4",
   "metadata": {},
   "outputs": [
    {
     "name": "stdout",
     "output_type": "stream",
     "text": [
      "     size  size_encoded\n",
      "0   small           0.0\n",
      "1  medium           1.0\n",
      "2   large           2.0\n",
      "3   small           0.0\n"
     ]
    }
   ],
   "source": [
    "from sklearn.preprocessing import OrdinalEncoder\n",
    "\n",
    "df = pd.DataFrame({'size': ['small', 'medium', 'large', 'small']})\n",
    "encoder = OrdinalEncoder(categories=[['small', 'medium', 'large']])\n",
    "df['size_encoded'] = encoder.fit_transform(df[['size']])\n",
    "print(df)"
   ]
  },
  {
   "cell_type": "markdown",
   "id": "25cd2ea4",
   "metadata": {},
   "source": [
    "## 4. Binary Encoding\n",
    "\n",
    "Converts categories into binary numbers and spreads the bits across columns.\n",
    "\n",
    "**Use case**: When you have many categories and want to reduce dimensionality  \n",
    "**Note**: Harder to interpret"
   ]
  },
  {
   "cell_type": "code",
   "execution_count": null,
   "id": "7d292506",
   "metadata": {},
   "outputs": [],
   "source": [
    "pip install category_encoders"
   ]
  },
  {
   "cell_type": "code",
   "execution_count": 6,
   "id": "27f4b68f",
   "metadata": {},
   "outputs": [
    {
     "name": "stdout",
     "output_type": "stream",
     "text": [
      "   city_0  city_1\n",
      "0       0       1\n",
      "1       1       0\n",
      "2       1       1\n",
      "3       1       0\n"
     ]
    }
   ],
   "source": [
    "import pandas as pd\n",
    "import category_encoders as ce\n",
    "\n",
    "df = pd.DataFrame({'city': ['Tokyo', 'Osaka', 'Nagoya', 'Osaka']})\n",
    "encoder = ce.BinaryEncoder()\n",
    "df_encoded = encoder.fit_transform(df)\n",
    "print(df_encoded)"
   ]
  },
  {
   "cell_type": "markdown",
   "id": "dfa1fbf2",
   "metadata": {},
   "source": [
    "## 5. Target Encoding (Mean Encoding)\n",
    "\n",
    "Encodes categories with the mean of the target variable.\n",
    "\n",
    "**Use case**: High-cardinality categorical variables  \n",
    "**Note**: Can lead to data leakage — use with cross-validation or smoothing"
   ]
  },
  {
   "cell_type": "code",
   "execution_count": 7,
   "id": "024bf524",
   "metadata": {},
   "outputs": [
    {
     "name": "stdout",
     "output_type": "stream",
     "text": [
      "     city  purchased  city_encoded\n",
      "0   Tokyo          1           1.0\n",
      "1   Osaka          0           0.0\n",
      "2  Nagoya          1           1.0\n",
      "3   Osaka          0           0.0\n",
      "4   Tokyo          1           1.0\n"
     ]
    }
   ],
   "source": [
    "df = pd.DataFrame({\n",
    "    'city': ['Tokyo', 'Osaka', 'Nagoya', 'Osaka', 'Tokyo'],\n",
    "    'purchased': [1, 0, 1, 0, 1]\n",
    "})\n",
    "\n",
    "mean_map = df.groupby('city')['purchased'].mean()\n",
    "df['city_encoded'] = df['city'].map(mean_map)\n",
    "print(df)"
   ]
  },
  {
   "cell_type": "markdown",
   "id": "3af75c5b",
   "metadata": {},
   "source": [
    "## Summary Table\n",
    "\n",
    "| Encoding Method     | Description                             | Suitable For                     |\n",
    "|---------------------|------------------------------------------|----------------------------------|\n",
    "| One-Hot Encoding     | Creates binary columns per category      | Linear models, SVM               |\n",
    "| Label Encoding       | Integer encoding (unordered categories)  | Tree-based models                |\n",
    "| Ordinal Encoding     | Integer encoding (ordered categories)    | Ordered categorical features     |\n",
    "| Binary Encoding      | Compact representation using binary      | Mid-cardinality categories       |\n",
    "| Target Encoding      | Replaces category with target mean       | LGBM, XGBoost (with caution)     |\n",
    "\n",
    "\n",
    "## Notes\n",
    "\n",
    "- Use `One-Hot` if the model is sensitive to numerical values (e.g., logistic regression).\n",
    "- Use `Label` or `Ordinal` for tree-based models that do not rely on feature scale.\n",
    "- Avoid target leakage with `Target Encoding` by applying it within each fold during cross-validation."
   ]
  }
 ],
 "metadata": {
  "kernelspec": {
   "display_name": ".venv",
   "language": "python",
   "name": "python3"
  },
  "language_info": {
   "codemirror_mode": {
    "name": "ipython",
    "version": 3
   },
   "file_extension": ".py",
   "mimetype": "text/x-python",
   "name": "python",
   "nbconvert_exporter": "python",
   "pygments_lexer": "ipython3",
   "version": "3.12.4"
  }
 },
 "nbformat": 4,
 "nbformat_minor": 5
}
