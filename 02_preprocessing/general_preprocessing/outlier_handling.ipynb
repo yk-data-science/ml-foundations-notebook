{
 "cells": [
  {
   "cell_type": "markdown",
   "id": "2f53a5af",
   "metadata": {},
   "source": [
    "## Overview\n",
    "\n",
    "This notebook introduces basic techniques for detecting and handling outliers using a simple dataset.\n",
    "We will explore visual and statistical methods such as:\n",
    "\n",
    "- Boxplot visualisation\n",
    "- IQR (Interquartile Range) method\n",
    "- Z-score method\n",
    "- Isolation Forest (unsupervised learning)\n",
    "- Winsorization (capping)\n",
    "\n",
    "Outlier handling is essential for building robust machine learning models."
   ]
  },
  {
   "cell_type": "markdown",
   "id": "fc581ba4",
   "metadata": {},
   "source": [
    "### Import libraries"
   ]
  },
  {
   "cell_type": "code",
   "execution_count": 2,
   "id": "e7b85098",
   "metadata": {},
   "outputs": [],
   "source": [
    "# Load common libraries for data analysis and visualisation\n",
    "import pandas as pd\n",
    "import numpy as np\n",
    "import matplotlib.pyplot as plt\n",
    "import seaborn as sns\n",
    "\n",
    "from sklearn.ensemble import IsolationForest\n",
    "from scipy import stats\n",
    "\n",
    "sns.set_theme(style=\"whitegrid\")  # Prettier plots"
   ]
  },
  {
   "cell_type": "markdown",
   "id": "0f1c2625",
   "metadata": {},
   "source": [
    "### Create a Sample Dataset with Outliers\n",
    "Create a simple dataset with two numeric features, each containing one obvious outlier."
   ]
  },
  {
   "cell_type": "code",
   "execution_count": null,
   "id": "054db960",
   "metadata": {},
   "outputs": [
    {
     "data": {
      "text/html": [
       "<div>\n",
       "<style scoped>\n",
       "    .dataframe tbody tr th:only-of-type {\n",
       "        vertical-align: middle;\n",
       "    }\n",
       "\n",
       "    .dataframe tbody tr th {\n",
       "        vertical-align: top;\n",
       "    }\n",
       "\n",
       "    .dataframe thead th {\n",
       "        text-align: right;\n",
       "    }\n",
       "</style>\n",
       "<table border=\"1\" class=\"dataframe\">\n",
       "  <thead>\n",
       "    <tr style=\"text-align: right;\">\n",
       "      <th></th>\n",
       "      <th>feature1</th>\n",
       "      <th>feature2</th>\n",
       "    </tr>\n",
       "  </thead>\n",
       "  <tbody>\n",
       "    <tr>\n",
       "      <th>96</th>\n",
       "      <td>51.480601</td>\n",
       "      <td>27.348428</td>\n",
       "    </tr>\n",
       "    <tr>\n",
       "      <th>97</th>\n",
       "      <td>51.305276</td>\n",
       "      <td>30.461175</td>\n",
       "    </tr>\n",
       "    <tr>\n",
       "      <th>98</th>\n",
       "      <td>50.025567</td>\n",
       "      <td>30.174626</td>\n",
       "    </tr>\n",
       "    <tr>\n",
       "      <th>99</th>\n",
       "      <td>48.827064</td>\n",
       "      <td>26.571089</td>\n",
       "    </tr>\n",
       "    <tr>\n",
       "      <th>100</th>\n",
       "      <td>100.000000</td>\n",
       "      <td>80.000000</td>\n",
       "    </tr>\n",
       "  </tbody>\n",
       "</table>\n",
       "</div>"
      ],
      "text/plain": [
       "       feature1   feature2\n",
       "96    51.480601  27.348428\n",
       "97    51.305276  30.461175\n",
       "98    50.025567  30.174626\n",
       "99    48.827064  26.571089\n",
       "100  100.000000  80.000000"
      ]
     },
     "execution_count": 3,
     "metadata": {},
     "output_type": "execute_result"
    }
   ],
   "source": [
    "np.random.seed(42)\n",
    "\n",
    "# Generate normal data + 1 extreme value\n",
    "data = {\n",
    "    'feature1': np.append(np.random.normal(50, 5, 100), [100]),  # 100 is an outlier\n",
    "    'feature2': np.append(np.random.normal(30, 3, 100), [80])    # 80 is an outlier\n",
    "}\n",
    "\n",
    "df = pd.DataFrame(data)\n",
    "df.tail() # Display the last few rows of the DataFrame\n"
   ]
  },
  {
   "cell_type": "markdown",
   "id": "5ec44a45",
   "metadata": {},
   "source": [
    "### 1. Visualise Outliers with Boxplots\n",
    "Boxplots show the distribution of data and help detect potential outliers visually."
   ]
  },
  {
   "cell_type": "code",
   "execution_count": 4,
   "id": "7a53e8f7",
   "metadata": {},
   "outputs": [
    {
     "data": {
      "image/png": "[encoded data removed]",
      "text/plain": [
       "<Figure size 1000x400 with 1 Axes>"
      ]
     },
     "metadata": {},
     "output_type": "display_data"
    }
   ],
   "source": [
    "plt.figure(figsize=(10, 4))\n",
    "sns.boxplot(data=df)\n",
    "plt.title(\"Boxplots to Detect Outliers\")\n",
    "plt.show()"
   ]
  },
  {
   "cell_type": "markdown",
   "id": "fc46b714",
   "metadata": {},
   "source": [
    "### 2. Detect Outliers Using IQR Method\n",
    "The IQR method defines outliers as points that fall below Q1 - 1.5×IQR or above Q3 + 1.5×IQR."
   ]
  },
  {
   "cell_type": "code",
   "execution_count": 5,
   "id": "8ef4674d",
   "metadata": {},
   "outputs": [
    {
     "data": {
      "text/html": [
       "<div>\n",
       "<style scoped>\n",
       "    .dataframe tbody tr th:only-of-type {\n",
       "        vertical-align: middle;\n",
       "    }\n",
       "\n",
       "    .dataframe tbody tr th {\n",
       "        vertical-align: top;\n",
       "    }\n",
       "\n",
       "    .dataframe thead th {\n",
       "        text-align: right;\n",
       "    }\n",
       "</style>\n",
       "<table border=\"1\" class=\"dataframe\">\n",
       "  <thead>\n",
       "    <tr style=\"text-align: right;\">\n",
       "      <th></th>\n",
       "      <th>feature1</th>\n",
       "      <th>feature2</th>\n",
       "      <th>outlier_iqr_f1</th>\n",
       "      <th>outlier_iqr_f2</th>\n",
       "    </tr>\n",
       "  </thead>\n",
       "  <tbody>\n",
       "    <tr>\n",
       "      <th>74</th>\n",
       "      <td>36.901274</td>\n",
       "      <td>30.830072</td>\n",
       "      <td>True</td>\n",
       "      <td>False</td>\n",
       "    </tr>\n",
       "    <tr>\n",
       "      <th>79</th>\n",
       "      <td>40.062155</td>\n",
       "      <td>38.160507</td>\n",
       "      <td>False</td>\n",
       "      <td>True</td>\n",
       "    </tr>\n",
       "    <tr>\n",
       "      <th>100</th>\n",
       "      <td>100.000000</td>\n",
       "      <td>80.000000</td>\n",
       "      <td>True</td>\n",
       "      <td>True</td>\n",
       "    </tr>\n",
       "  </tbody>\n",
       "</table>\n",
       "</div>"
      ],
      "text/plain": [
       "       feature1   feature2  outlier_iqr_f1  outlier_iqr_f2\n",
       "74    36.901274  30.830072            True           False\n",
       "79    40.062155  38.160507           False            True\n",
       "100  100.000000  80.000000            True            True"
      ]
     },
     "execution_count": 5,
     "metadata": {},
     "output_type": "execute_result"
    }
   ],
   "source": [
    "def detect_outliers_iqr(column):\n",
    "    Q1 = column.quantile(0.25)\n",
    "    Q3 = column.quantile(0.75)\n",
    "    IQR = Q3 - Q1\n",
    "    lower = Q1 - 1.5 * IQR\n",
    "    upper = Q3 + 1.5 * IQR\n",
    "    return (column < lower) | (column > upper)\n",
    "\n",
    "df['outlier_iqr_f1'] = detect_outliers_iqr(df['feature1'])\n",
    "df['outlier_iqr_f2'] = detect_outliers_iqr(df['feature2'])\n",
    "\n",
    "df[df['outlier_iqr_f1'] | df['outlier_iqr_f2']]"
   ]
  },
  {
   "cell_type": "markdown",
   "id": "8a2748cb",
   "metadata": {},
   "source": [
    "### 3. Detect Outliers Using Z-Score Method\n",
    "Z-score measures how many standard deviations a value is from the mean.\n",
    "Values above 3 (or below -3) are often considered outliers."
   ]
  },
  {
   "cell_type": "code",
   "execution_count": 6,
   "id": "111c3151",
   "metadata": {},
   "outputs": [
    {
     "data": {
      "text/html": [
       "<div>\n",
       "<style scoped>\n",
       "    .dataframe tbody tr th:only-of-type {\n",
       "        vertical-align: middle;\n",
       "    }\n",
       "\n",
       "    .dataframe tbody tr th {\n",
       "        vertical-align: top;\n",
       "    }\n",
       "\n",
       "    .dataframe thead th {\n",
       "        text-align: right;\n",
       "    }\n",
       "</style>\n",
       "<table border=\"1\" class=\"dataframe\">\n",
       "  <thead>\n",
       "    <tr style=\"text-align: right;\">\n",
       "      <th></th>\n",
       "      <th>feature1</th>\n",
       "      <th>feature2</th>\n",
       "      <th>outlier_iqr_f1</th>\n",
       "      <th>outlier_iqr_f2</th>\n",
       "      <th>zscore_f1</th>\n",
       "      <th>zscore_f2</th>\n",
       "    </tr>\n",
       "  </thead>\n",
       "  <tbody>\n",
       "    <tr>\n",
       "      <th>100</th>\n",
       "      <td>100.0</td>\n",
       "      <td>80.0</td>\n",
       "      <td>True</td>\n",
       "      <td>True</td>\n",
       "      <td>7.437417</td>\n",
       "      <td>8.676778</td>\n",
       "    </tr>\n",
       "  </tbody>\n",
       "</table>\n",
       "</div>"
      ],
      "text/plain": [
       "     feature1  feature2  outlier_iqr_f1  outlier_iqr_f2  zscore_f1  zscore_f2\n",
       "100     100.0      80.0            True            True   7.437417   8.676778"
      ]
     },
     "execution_count": 6,
     "metadata": {},
     "output_type": "execute_result"
    }
   ],
   "source": [
    "df['zscore_f1'] = np.abs(stats.zscore(df['feature1']))\n",
    "df['zscore_f2'] = np.abs(stats.zscore(df['feature2']))\n",
    "\n",
    "df[(df['zscore_f1'] > 3) | (df['zscore_f2'] > 3)]"
   ]
  },
  {
   "cell_type": "markdown",
   "id": "da82c2dd",
   "metadata": {},
   "source": [
    "### 4. Detect Outliers Using Isolation Forest\n",
    "Isolation Forest is an unsupervised machine learning model that detects anomalies by randomly isolating observations."
   ]
  },
  {
   "cell_type": "code",
   "execution_count": 7,
   "id": "26142a26",
   "metadata": {},
   "outputs": [
    {
     "data": {
      "text/html": [
       "<div>\n",
       "<style scoped>\n",
       "    .dataframe tbody tr th:only-of-type {\n",
       "        vertical-align: middle;\n",
       "    }\n",
       "\n",
       "    .dataframe tbody tr th {\n",
       "        vertical-align: top;\n",
       "    }\n",
       "\n",
       "    .dataframe thead th {\n",
       "        text-align: right;\n",
       "    }\n",
       "</style>\n",
       "<table border=\"1\" class=\"dataframe\">\n",
       "  <thead>\n",
       "    <tr style=\"text-align: right;\">\n",
       "      <th></th>\n",
       "      <th>feature1</th>\n",
       "      <th>feature2</th>\n",
       "      <th>outlier_iqr_f1</th>\n",
       "      <th>outlier_iqr_f2</th>\n",
       "      <th>zscore_f1</th>\n",
       "      <th>zscore_f2</th>\n",
       "      <th>outlier_iso</th>\n",
       "    </tr>\n",
       "  </thead>\n",
       "  <tbody>\n",
       "    <tr>\n",
       "      <th>79</th>\n",
       "      <td>40.062155</td>\n",
       "      <td>38.160507</td>\n",
       "      <td>False</td>\n",
       "      <td>True</td>\n",
       "      <td>1.474844</td>\n",
       "      <td>1.333705</td>\n",
       "      <td>-1</td>\n",
       "    </tr>\n",
       "    <tr>\n",
       "      <th>100</th>\n",
       "      <td>100.000000</td>\n",
       "      <td>80.000000</td>\n",
       "      <td>True</td>\n",
       "      <td>True</td>\n",
       "      <td>7.437417</td>\n",
       "      <td>8.676778</td>\n",
       "      <td>-1</td>\n",
       "    </tr>\n",
       "  </tbody>\n",
       "</table>\n",
       "</div>"
      ],
      "text/plain": [
       "       feature1   feature2  outlier_iqr_f1  outlier_iqr_f2  zscore_f1  \\\n",
       "79    40.062155  38.160507           False            True   1.474844   \n",
       "100  100.000000  80.000000            True            True   7.437417   \n",
       "\n",
       "     zscore_f2  outlier_iso  \n",
       "79    1.333705           -1  \n",
       "100   8.676778           -1  "
      ]
     },
     "execution_count": 7,
     "metadata": {},
     "output_type": "execute_result"
    }
   ],
   "source": [
    "iso = IsolationForest(contamination=0.02, random_state=42)\n",
    "\n",
    "df['outlier_iso'] = iso.fit_predict(df[['feature1', 'feature2']])\n",
    "df[df['outlier_iso'] == -1]  # -1 means anomaly"
   ]
  },
  {
   "cell_type": "markdown",
   "id": "aca49862",
   "metadata": {},
   "source": [
    "### 5. Handle Outliers Using Winsorization\n",
    "Winsorization caps outliers to the nearest limit within the IQR-based range."
   ]
  },
  {
   "cell_type": "code",
   "execution_count": 8,
   "id": "ab879a54",
   "metadata": {},
   "outputs": [],
   "source": [
    "def winsorize(column):\n",
    "    Q1 = column.quantile(0.25)\n",
    "    Q3 = column.quantile(0.75)\n",
    "    IQR = Q3 - Q1\n",
    "    lower = Q1 - 1.5 * IQR\n",
    "    upper = Q3 + 1.5 * IQR\n",
    "    return np.clip(column, lower, upper)\n",
    "\n",
    "df['feature1_winsor'] = winsorize(df['feature1'])\n",
    "df['feature2_winsor'] = winsorize(df['feature2'])"
   ]
  },
  {
   "cell_type": "markdown",
   "id": "6970c137",
   "metadata": {},
   "source": [
    "#### Visualise Winsorised Data\n",
    "Boxplots of winsorised features show reduced influence of outliers."
   ]
  },
  {
   "cell_type": "code",
   "execution_count": 9,
   "id": "0a633c1e",
   "metadata": {},
   "outputs": [
    {
     "data": {
      "image/png": "[encoded data removed]",
      "text/plain": [
       "<Figure size 1200x400 with 2 Axes>"
      ]
     },
     "metadata": {},
     "output_type": "display_data"
    }
   ],
   "source": [
    "fig, axes = plt.subplots(1, 2, figsize=(12, 4))\n",
    "\n",
    "sns.boxplot(y=df['feature1_winsor'], ax=axes[0]).set_title(\"Feature1 Winsorised\")\n",
    "sns.boxplot(y=df['feature2_winsor'], ax=axes[1]).set_title(\"Feature2 Winsorised\")\n",
    "\n",
    "plt.tight_layout()\n",
    "plt.show()"
   ]
  },
  {
   "cell_type": "markdown",
   "id": "7d22983b",
   "metadata": {},
   "source": [
    "### 10. Summary\n",
    "\n",
    "This notebook introduced basic techniques for detecting and handling outliers.\n",
    "\n",
    "Key points:\n",
    "\n",
    "- Outliers can significantly distort statistical summaries and model performance.  \n",
    "- IQR (Interquartile Range) and Z-score are simple and interpretable methods for identifying outliers.  \n",
    "- Isolation Forest is a machine learning approach suitable for detecting anomalies in multivariate data.  \n",
    "- Winsorization allows for capping extreme values instead of removing them, preserving the dataset's structure.  \n",
    "- Choosing a handling method should be guided by the specific data context and domain knowledge."
   ]
  }
 ],
 "metadata": {
  "kernelspec": {
   "display_name": ".venv",
   "language": "python",
   "name": "python3"
  },
  "language_info": {
   "codemirror_mode": {
    "name": "ipython",
    "version": 3
   },
   "file_extension": ".py",
   "mimetype": "text/x-python",
   "name": "python",
   "nbconvert_exporter": "python",
   "pygments_lexer": "ipython3",
   "version": "3.12.4"
  }
 },
 "nbformat": 4,
 "nbformat_minor": 5
}
