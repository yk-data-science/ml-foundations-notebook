{
 "cells": [
  {
   "cell_type": "markdown",
   "id": "cf74e433",
   "metadata": {},
   "source": [
    "# Handling Missing Values in Data\n",
    "\n",
    "---\n",
    "\n",
    "## 1. Overview\n",
    "\n",
    "Missing data is a common issue in real-world datasets that can affect the quality of analysis and model performance.  \n",
    "This notebook covers basic techniques to identify, analyse, and handle missing values using Python.  \n",
    "\n",
    "Key topics include:  \n",
    "- Types of missing data (MCAR, MAR, MNAR)  \n",
    "- Detecting missing values  \n",
    "- Simple imputation methods (mean, median, mode)  \n",
    "- Advanced imputation methods (KNN, regression)  \n",
    "- Dropping missing data  \n",
    "- Considerations and best practices  \n",
    "\n",
    "---\n",
    "\n",
    "## 2. Types of Missing Data\n",
    "\n",
    "Missing data can be classified into three types, important for deciding how to handle them:\n",
    "\n",
    "- **MCAR (Missing Completely At Random):** Missingness unrelated to any data.  \n",
    "- **MAR (Missing At Random):** Missingness related to observed data, but not to missing values themselves.  \n",
    "- **MNAR (Missing Not At Random):** Missingness related to the missing values themselves.  \n",
    "\n",
    "Understanding these helps select appropriate imputation methods."
   ]
  },
  {
   "cell_type": "markdown",
   "id": "937cc6b9",
   "metadata": {},
   "source": [
    "## 3. Detecting Missing Values\n",
    "\n",
    "We first detect where and how much data is missing.\n",
    "\n",
    "- Use `pandas` functions like `.isnull()` and `.sum()` to count missing values.  \n",
    "- Visualise missingness with heatmaps or bar charts to understand patterns."
   ]
  },
  {
   "cell_type": "code",
   "execution_count": 2,
   "id": "79bd1408",
   "metadata": {},
   "outputs": [
    {
     "name": "stdout",
     "output_type": "stream",
     "text": [
      "    Age  Gender   Income        City\n",
      "0  25.0    Male  50000.0      London\n",
      "1  30.0  Female  60000.0  Manchester\n",
      "2   NaN  Female  55000.0     Bristol\n",
      "3  22.0     NaN  52000.0      London\n",
      "4  28.0    Male      NaN     Bristol\n",
      "5   NaN  Female  58000.0         NaN\n",
      "6  35.0     NaN  60000.0  Manchester\n",
      "Age       2\n",
      "Gender    2\n",
      "Income    1\n",
      "City      1\n",
      "dtype: int64\n"
     ]
    },
    {
     "data": {
      "image/png": "[encoded data removed]",
      "text/plain": [
       "<Figure size 640x480 with 1 Axes>"
      ]
     },
     "metadata": {},
     "output_type": "display_data"
    }
   ],
   "source": [
    "import pandas as pd\n",
    "import numpy as np\n",
    "import seaborn as sns\n",
    "import matplotlib.pyplot as plt\n",
    "\n",
    "# Sample dataset\n",
    "data = {\n",
    "    'Age': [25, 30, np.nan, 22, 28, np.nan, 35],\n",
    "    'Gender': ['Male', 'Female', 'Female', np.nan, 'Male', 'Female', np.nan],\n",
    "    'Income': [50000, 60000, 55000, 52000, np.nan, 58000, 60000],\n",
    "    'City': ['London', 'Manchester', 'Bristol', 'London', 'Bristol', np.nan, 'Manchester']\n",
    "}\n",
    "\n",
    "df = pd.DataFrame(data)\n",
    "print(df)\n",
    "\n",
    "\n",
    "# Check missing values per column\n",
    "print(df.isnull().sum())\n",
    "\n",
    "# Visualise missing data pattern\n",
    "sns.heatmap(df.isnull(), cbar=False)\n",
    "plt.title('Missing Values Heatmap')\n",
    "plt.show()"
   ]
  },
  {
   "cell_type": "markdown",
   "id": "1925d381",
   "metadata": {},
   "source": [
    "## 4. Dropping Missing Data\n",
    "\n",
    "Dropping rows or columns containing missing values can be a simple and effective way to handle missing data, especially when the proportion of missing values is small or those features are not important."
   ]
  },
  {
   "cell_type": "code",
   "execution_count": 3,
   "id": "b0ef0ff8",
   "metadata": {},
   "outputs": [],
   "source": [
    " # Drop rows with any missing values\n",
    "df_drop_rows = df.dropna()\n",
    "\n",
    "# Drop columns where more than 50% of values are missing\n",
    "df_drop_cols = df.dropna(axis=1, thresh=int(len(df) * 0.5))"
   ]
  },
  {
   "cell_type": "markdown",
   "id": "c347fad5",
   "metadata": {},
   "source": [
    "## 5. Simple Imputation Methods\n",
    "\n",
    "Simple imputation fills missing values using summary statistics like mean, median, or mode. It is easy to implement but may not capture complex data patterns.\n",
    "\n",
    "- Mean imputation for numeric data  \n",
    "- Median imputation (more robust to outliers)  \n",
    "- Mode imputation for categorical data"
   ]
  },
  {
   "cell_type": "code",
   "execution_count": null,
   "id": "c42f5e99",
   "metadata": {},
   "outputs": [],
   "source": [
    "# Fill missing numeric values (Age) with mean\n",
    "df['Age'] = df['Age'].fillna(df['Age'].mean())\n",
    "\n",
    "# Fill missing categorical values (Gender) with mode\n",
    "df['Gender'] = df['Gender'].fillna(df['Gender'].mode()[0])"
   ]
  },
  {
   "cell_type": "markdown",
   "id": "087806da",
   "metadata": {},
   "source": [
    "## 6. Advanced Imputation Methods\n",
    "\n",
    "More sophisticated methods use models or similarity to predict missing values:\n",
    "\n",
    "- K-Nearest Neighbors (KNN) imputation: imputes missing values based on similar samples  \n",
    "- Regression imputation: predicts missing values using regression models trained on other features\n"
   ]
  },
  {
   "cell_type": "code",
   "execution_count": 7,
   "id": "31fb1ce5",
   "metadata": {},
   "outputs": [],
   "source": [
    "from sklearn.impute import KNNImputer\n",
    "\n",
    "# Select numerical columns only\n",
    "num_cols = df.select_dtypes(include=['float64', 'int64']).columns\n",
    "df_num = df[num_cols]\n",
    "\n",
    "# Apply KNNImputer\n",
    "imputer = KNNImputer(n_neighbors=3)\n",
    "df_num_imputed = pd.DataFrame(imputer.fit_transform(df_num), columns=num_cols)\n",
    "\n",
    "# Replace numerical columns in original dataframe\n",
    "df[num_cols] = df_num_imputed"
   ]
  },
  {
   "cell_type": "markdown",
   "id": "c04ead05",
   "metadata": {},
   "source": [
    "## 7. When Not to Impute\n",
    "\n",
    "Imputation is not always appropriate:\n",
    "\n",
    "- If data is MNAR (missing not at random), imputation can introduce bias  \n",
    "- Features with very high missing rates may be better dropped  \n",
    "- Always consider domain knowledge and data context before imputing\n",
    "\n",
    "---\n",
    "\n",
    "## 8. Summary\n",
    "\n",
    "- Missing values are common in real datasets and must be handled carefully  \n",
    "- Detect missing data patterns with pandas and visualization  \n",
    "- Dropping data is simple but can lose information  \n",
    "- Simple imputation is easy but limited  \n",
    "- Advanced methods improve quality but add complexity  \n",
    "- Understand your data and document all steps clearly for reproducibility  "
   ]
  }
 ],
 "metadata": {
  "kernelspec": {
   "display_name": ".venv",
   "language": "python",
   "name": "python3"
  },
  "language_info": {
   "codemirror_mode": {
    "name": "ipython",
    "version": 3
   },
   "file_extension": ".py",
   "mimetype": "text/x-python",
   "name": "python",
   "nbconvert_exporter": "python",
   "pygments_lexer": "ipython3",
   "version": "3.12.4"
  }
 },
 "nbformat": 4,
 "nbformat_minor": 5
}
